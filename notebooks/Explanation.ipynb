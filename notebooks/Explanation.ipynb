{
 "cells": [
  {
   "cell_type": "code",
   "execution_count": null,
   "id": "27694a4c",
   "metadata": {},
   "outputs": [],
   "source": [
    "# Step 1, find similar users by first filtering the rating dataframe by first matching the rows\n",
    "# where the movieID is the same . Then from these rows u get the ratings\n",
    "# where they are more then 4, then u get the userID of these users.\n",
    "# This is the similar ussers where the movieID is the same and rating ism ore then 4"
   ]
  },
  {
   "cell_type": "code",
   "execution_count": null,
   "id": "52d5483b",
   "metadata": {},
   "outputs": [],
   "source": [
    "# Step 2 is getting what they similar users have rated highly\n",
    "# I create similar_user_recs by filtering the ratings by the rows where the userID has the similar users\n",
    "# then from these rows I get the rating where they are more then 4\n",
    "# then i get the movieID of these rows\n",
    "# then i use value_counts() to get the number\n",
    "# of times each movieID appears and divide each \n",
    "# count by the total number of similar users."
   ]
  },
  {
   "cell_type": "code",
   "execution_count": 4,
   "id": "241974b0",
   "metadata": {},
   "outputs": [],
   "source": [
    "# Step 3 is to filter Popular Movies among these similar users.\n",
    "# I create popular_movies by filtering the similar_user_recs even further by only getting\n",
    "# the movieIDs that at least 5% of similar users have rated highly.\n",
    "## CAN BE ADJUSTED BASED ON PREFERENCE ##"
   ]
  },
  {
   "cell_type": "code",
   "execution_count": 5,
   "id": "e46c9920",
   "metadata": {},
   "outputs": [],
   "source": [
    "# Step 4 is calculating how all users feel about these popular movies.\n",
    "# I create all_users byu filtering the ratings dataframe by the moviedIDs in popular_movies\n",
    "# and the ratings where they are more then 4\n",
    "# then i use value counts and divide by all users to get the percentage of all users "
   ]
  },
  {
   "cell_type": "code",
   "execution_count": 1,
   "id": "c4a42586",
   "metadata": {},
   "outputs": [],
   "source": [
    "# Step 5 get score, high score means similar users like it more then all users ( hidden gem)\n",
    "# If low score means its just generally popular like the Avengers movies"
   ]
  },
  {
   "cell_type": "code",
   "execution_count": null,
   "id": "ca357ec3",
   "metadata": {},
   "outputs": [],
   "source": [
    "# Step 6 is to sort in descending order and get the top 10 hidden gems.\n",
    "# Use left_index = True means "
   ]
  }
 ],
 "metadata": {
  "kernelspec": {
   "display_name": "Python 3",
   "language": "python",
   "name": "python3"
  },
  "language_info": {
   "codemirror_mode": {
    "name": "ipython",
    "version": 3
   },
   "file_extension": ".py",
   "mimetype": "text/x-python",
   "name": "python",
   "nbconvert_exporter": "python",
   "pygments_lexer": "ipython3",
   "version": "3.11.9"
  }
 },
 "nbformat": 4,
 "nbformat_minor": 5
}
